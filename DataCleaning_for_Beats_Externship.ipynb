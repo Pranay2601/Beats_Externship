{
  "nbformat": 4,
  "nbformat_minor": 0,
  "metadata": {
    "colab": {
      "provenance": []
    },
    "kernelspec": {
      "name": "python3",
      "display_name": "Python 3"
    },
    "language_info": {
      "name": "python"
    }
  },
  "cells": [
    {
      "cell_type": "code",
      "execution_count": 254,
      "metadata": {
        "id": "d0kiDrZUr0Ig"
      },
      "outputs": [],
      "source": [
        "import pandas as pd"
      ]
    },
    {
      "cell_type": "code",
      "source": [
        "# Load the dataset into a pandas DataFrame\n",
        "\n",
        "df = pd.read_csv('/content/dataset_for_beats_externship.csv', encoding='ISO-8859-1', delimiter=',', on_bad_lines='skip')"
      ],
      "metadata": {
        "id": "DgfuwWa1vNmu"
      },
      "execution_count": 255,
      "outputs": []
    },
    {
      "cell_type": "code",
      "source": [
        "df.head()"
      ],
      "metadata": {
        "colab": {
          "base_uri": "https://localhost:8080/",
          "height": 608
        },
        "id": "475F56IYzPTP",
        "outputId": "adfb6b3f-5e91-4d50-f26a-d9ff5a9d5af1"
      },
      "execution_count": 256,
      "outputs": [
        {
          "output_type": "execute_result",
          "data": {
            "text/plain": [
              "        review_id  product_id  \\\n",
              "0  R1TNTONRLTPEWR  B09FM6PDHP   \n",
              "1  R11OSJ184YK5L8  B09FM6PDHP   \n",
              "2  R2ND8UB3QKR4XD  B09FM6PDHP   \n",
              "3  R1ATLW9X08QUD0  B09FM6PDHP   \n",
              "4  R1PDE5V244R06D  B09FM6PDHP   \n",
              "\n",
              "                                               title            author rating  \\\n",
              "0  5.0 out of 5 stars Raycons better up their gam...            Dawson      5   \n",
              "1           5.0 out of 5 stars Amazing sound quality   Amazon Customer      5   \n",
              "2                4.0 out of 5 stars JBL for the win.             Amber      4   \n",
              "3  5.0 out of 5 stars Great sound, comfortable in...  Rusty Squeezebox      5   \n",
              "4  5.0 out of 5 stars At 50% or more off, these a...            Dru Ha      5   \n",
              "\n",
              "                                             content  \\\n",
              "0  Before I bought these I had raycons. Raycon ea...   \n",
              "1  This review is representative of my first impr...   \n",
              "2  Affordable, and great all arounder. Noise canc...   \n",
              "3  Took a chance and bought these on prime day, p...   \n",
              "4  I have one pair for work and one for home/goin...   \n",
              "\n",
              "                                         timestamp  \\\n",
              "0       Reviewed in the United States May 16, 2024   \n",
              "1      Reviewed in the United States July 19, 2024   \n",
              "2      Reviewed in the United States July 29, 2024   \n",
              "3      Reviewed in the United States July 25, 2024   \n",
              "4  Reviewed in the United States November 11, 2023   \n",
              "\n",
              "                     profile_id is_verified helpful_count  \\\n",
              "0  AGI3WTFII3HB6JI2GL5PM7J7F7DQ           1            54   \n",
              "1  AHDFGIHZLAWNS6GVEJFT6HO4JONQ           1            18   \n",
              "2  AHKSTPYCQ256XNBIJJNN5IKNF43A           1             1   \n",
              "3  AGYXE4BIFF7ICA2CNQ27K5VYPBCQ           1             0   \n",
              "4  AFUR62MXQUALQJX5LDFW3KOQBQLA           1            99   \n",
              "\n",
              "              product_attributes  \n",
              "0  Color: BlackStyle: Headphones  \n",
              "1  Color: BlackStyle: Headphones  \n",
              "2   Color: BlueStyle: Headphones  \n",
              "3  Color: BlackStyle: Headphones  \n",
              "4   Color: BlueStyle: Headphones  "
            ],
            "text/html": [
              "\n",
              "  <div id=\"df-ba14e14d-bb74-43e0-b681-6447cb65f268\" class=\"colab-df-container\">\n",
              "    <div>\n",
              "<style scoped>\n",
              "    .dataframe tbody tr th:only-of-type {\n",
              "        vertical-align: middle;\n",
              "    }\n",
              "\n",
              "    .dataframe tbody tr th {\n",
              "        vertical-align: top;\n",
              "    }\n",
              "\n",
              "    .dataframe thead th {\n",
              "        text-align: right;\n",
              "    }\n",
              "</style>\n",
              "<table border=\"1\" class=\"dataframe\">\n",
              "  <thead>\n",
              "    <tr style=\"text-align: right;\">\n",
              "      <th></th>\n",
              "      <th>review_id</th>\n",
              "      <th>product_id</th>\n",
              "      <th>title</th>\n",
              "      <th>author</th>\n",
              "      <th>rating</th>\n",
              "      <th>content</th>\n",
              "      <th>timestamp</th>\n",
              "      <th>profile_id</th>\n",
              "      <th>is_verified</th>\n",
              "      <th>helpful_count</th>\n",
              "      <th>product_attributes</th>\n",
              "    </tr>\n",
              "  </thead>\n",
              "  <tbody>\n",
              "    <tr>\n",
              "      <th>0</th>\n",
              "      <td>R1TNTONRLTPEWR</td>\n",
              "      <td>B09FM6PDHP</td>\n",
              "      <td>5.0 out of 5 stars Raycons better up their gam...</td>\n",
              "      <td>Dawson</td>\n",
              "      <td>5</td>\n",
              "      <td>Before I bought these I had raycons. Raycon ea...</td>\n",
              "      <td>Reviewed in the United States May 16, 2024</td>\n",
              "      <td>AGI3WTFII3HB6JI2GL5PM7J7F7DQ</td>\n",
              "      <td>1</td>\n",
              "      <td>54</td>\n",
              "      <td>Color: BlackStyle: Headphones</td>\n",
              "    </tr>\n",
              "    <tr>\n",
              "      <th>1</th>\n",
              "      <td>R11OSJ184YK5L8</td>\n",
              "      <td>B09FM6PDHP</td>\n",
              "      <td>5.0 out of 5 stars Amazing sound quality</td>\n",
              "      <td>Amazon Customer</td>\n",
              "      <td>5</td>\n",
              "      <td>This review is representative of my first impr...</td>\n",
              "      <td>Reviewed in the United States July 19, 2024</td>\n",
              "      <td>AHDFGIHZLAWNS6GVEJFT6HO4JONQ</td>\n",
              "      <td>1</td>\n",
              "      <td>18</td>\n",
              "      <td>Color: BlackStyle: Headphones</td>\n",
              "    </tr>\n",
              "    <tr>\n",
              "      <th>2</th>\n",
              "      <td>R2ND8UB3QKR4XD</td>\n",
              "      <td>B09FM6PDHP</td>\n",
              "      <td>4.0 out of 5 stars JBL for the win.</td>\n",
              "      <td>Amber</td>\n",
              "      <td>4</td>\n",
              "      <td>Affordable, and great all arounder. Noise canc...</td>\n",
              "      <td>Reviewed in the United States July 29, 2024</td>\n",
              "      <td>AHKSTPYCQ256XNBIJJNN5IKNF43A</td>\n",
              "      <td>1</td>\n",
              "      <td>1</td>\n",
              "      <td>Color: BlueStyle: Headphones</td>\n",
              "    </tr>\n",
              "    <tr>\n",
              "      <th>3</th>\n",
              "      <td>R1ATLW9X08QUD0</td>\n",
              "      <td>B09FM6PDHP</td>\n",
              "      <td>5.0 out of 5 stars Great sound, comfortable in...</td>\n",
              "      <td>Rusty Squeezebox</td>\n",
              "      <td>5</td>\n",
              "      <td>Took a chance and bought these on prime day, p...</td>\n",
              "      <td>Reviewed in the United States July 25, 2024</td>\n",
              "      <td>AGYXE4BIFF7ICA2CNQ27K5VYPBCQ</td>\n",
              "      <td>1</td>\n",
              "      <td>0</td>\n",
              "      <td>Color: BlackStyle: Headphones</td>\n",
              "    </tr>\n",
              "    <tr>\n",
              "      <th>4</th>\n",
              "      <td>R1PDE5V244R06D</td>\n",
              "      <td>B09FM6PDHP</td>\n",
              "      <td>5.0 out of 5 stars At 50% or more off, these a...</td>\n",
              "      <td>Dru Ha</td>\n",
              "      <td>5</td>\n",
              "      <td>I have one pair for work and one for home/goin...</td>\n",
              "      <td>Reviewed in the United States November 11, 2023</td>\n",
              "      <td>AFUR62MXQUALQJX5LDFW3KOQBQLA</td>\n",
              "      <td>1</td>\n",
              "      <td>99</td>\n",
              "      <td>Color: BlueStyle: Headphones</td>\n",
              "    </tr>\n",
              "  </tbody>\n",
              "</table>\n",
              "</div>\n",
              "    <div class=\"colab-df-buttons\">\n",
              "\n",
              "  <div class=\"colab-df-container\">\n",
              "    <button class=\"colab-df-convert\" onclick=\"convertToInteractive('df-ba14e14d-bb74-43e0-b681-6447cb65f268')\"\n",
              "            title=\"Convert this dataframe to an interactive table.\"\n",
              "            style=\"display:none;\">\n",
              "\n",
              "  <svg xmlns=\"http://www.w3.org/2000/svg\" height=\"24px\" viewBox=\"0 -960 960 960\">\n",
              "    <path d=\"M120-120v-720h720v720H120Zm60-500h600v-160H180v160Zm220 220h160v-160H400v160Zm0 220h160v-160H400v160ZM180-400h160v-160H180v160Zm440 0h160v-160H620v160ZM180-180h160v-160H180v160Zm440 0h160v-160H620v160Z\"/>\n",
              "  </svg>\n",
              "    </button>\n",
              "\n",
              "  <style>\n",
              "    .colab-df-container {\n",
              "      display:flex;\n",
              "      gap: 12px;\n",
              "    }\n",
              "\n",
              "    .colab-df-convert {\n",
              "      background-color: #E8F0FE;\n",
              "      border: none;\n",
              "      border-radius: 50%;\n",
              "      cursor: pointer;\n",
              "      display: none;\n",
              "      fill: #1967D2;\n",
              "      height: 32px;\n",
              "      padding: 0 0 0 0;\n",
              "      width: 32px;\n",
              "    }\n",
              "\n",
              "    .colab-df-convert:hover {\n",
              "      background-color: #E2EBFA;\n",
              "      box-shadow: 0px 1px 2px rgba(60, 64, 67, 0.3), 0px 1px 3px 1px rgba(60, 64, 67, 0.15);\n",
              "      fill: #174EA6;\n",
              "    }\n",
              "\n",
              "    .colab-df-buttons div {\n",
              "      margin-bottom: 4px;\n",
              "    }\n",
              "\n",
              "    [theme=dark] .colab-df-convert {\n",
              "      background-color: #3B4455;\n",
              "      fill: #D2E3FC;\n",
              "    }\n",
              "\n",
              "    [theme=dark] .colab-df-convert:hover {\n",
              "      background-color: #434B5C;\n",
              "      box-shadow: 0px 1px 3px 1px rgba(0, 0, 0, 0.15);\n",
              "      filter: drop-shadow(0px 1px 2px rgba(0, 0, 0, 0.3));\n",
              "      fill: #FFFFFF;\n",
              "    }\n",
              "  </style>\n",
              "\n",
              "    <script>\n",
              "      const buttonEl =\n",
              "        document.querySelector('#df-ba14e14d-bb74-43e0-b681-6447cb65f268 button.colab-df-convert');\n",
              "      buttonEl.style.display =\n",
              "        google.colab.kernel.accessAllowed ? 'block' : 'none';\n",
              "\n",
              "      async function convertToInteractive(key) {\n",
              "        const element = document.querySelector('#df-ba14e14d-bb74-43e0-b681-6447cb65f268');\n",
              "        const dataTable =\n",
              "          await google.colab.kernel.invokeFunction('convertToInteractive',\n",
              "                                                    [key], {});\n",
              "        if (!dataTable) return;\n",
              "\n",
              "        const docLinkHtml = 'Like what you see? Visit the ' +\n",
              "          '<a target=\"_blank\" href=https://colab.research.google.com/notebooks/data_table.ipynb>data table notebook</a>'\n",
              "          + ' to learn more about interactive tables.';\n",
              "        element.innerHTML = '';\n",
              "        dataTable['output_type'] = 'display_data';\n",
              "        await google.colab.output.renderOutput(dataTable, element);\n",
              "        const docLink = document.createElement('div');\n",
              "        docLink.innerHTML = docLinkHtml;\n",
              "        element.appendChild(docLink);\n",
              "      }\n",
              "    </script>\n",
              "  </div>\n",
              "\n",
              "\n",
              "<div id=\"df-29e722ca-6322-4a18-ba2f-7b6510aae439\">\n",
              "  <button class=\"colab-df-quickchart\" onclick=\"quickchart('df-29e722ca-6322-4a18-ba2f-7b6510aae439')\"\n",
              "            title=\"Suggest charts\"\n",
              "            style=\"display:none;\">\n",
              "\n",
              "<svg xmlns=\"http://www.w3.org/2000/svg\" height=\"24px\"viewBox=\"0 0 24 24\"\n",
              "     width=\"24px\">\n",
              "    <g>\n",
              "        <path d=\"M19 3H5c-1.1 0-2 .9-2 2v14c0 1.1.9 2 2 2h14c1.1 0 2-.9 2-2V5c0-1.1-.9-2-2-2zM9 17H7v-7h2v7zm4 0h-2V7h2v10zm4 0h-2v-4h2v4z\"/>\n",
              "    </g>\n",
              "</svg>\n",
              "  </button>\n",
              "\n",
              "<style>\n",
              "  .colab-df-quickchart {\n",
              "      --bg-color: #E8F0FE;\n",
              "      --fill-color: #1967D2;\n",
              "      --hover-bg-color: #E2EBFA;\n",
              "      --hover-fill-color: #174EA6;\n",
              "      --disabled-fill-color: #AAA;\n",
              "      --disabled-bg-color: #DDD;\n",
              "  }\n",
              "\n",
              "  [theme=dark] .colab-df-quickchart {\n",
              "      --bg-color: #3B4455;\n",
              "      --fill-color: #D2E3FC;\n",
              "      --hover-bg-color: #434B5C;\n",
              "      --hover-fill-color: #FFFFFF;\n",
              "      --disabled-bg-color: #3B4455;\n",
              "      --disabled-fill-color: #666;\n",
              "  }\n",
              "\n",
              "  .colab-df-quickchart {\n",
              "    background-color: var(--bg-color);\n",
              "    border: none;\n",
              "    border-radius: 50%;\n",
              "    cursor: pointer;\n",
              "    display: none;\n",
              "    fill: var(--fill-color);\n",
              "    height: 32px;\n",
              "    padding: 0;\n",
              "    width: 32px;\n",
              "  }\n",
              "\n",
              "  .colab-df-quickchart:hover {\n",
              "    background-color: var(--hover-bg-color);\n",
              "    box-shadow: 0 1px 2px rgba(60, 64, 67, 0.3), 0 1px 3px 1px rgba(60, 64, 67, 0.15);\n",
              "    fill: var(--button-hover-fill-color);\n",
              "  }\n",
              "\n",
              "  .colab-df-quickchart-complete:disabled,\n",
              "  .colab-df-quickchart-complete:disabled:hover {\n",
              "    background-color: var(--disabled-bg-color);\n",
              "    fill: var(--disabled-fill-color);\n",
              "    box-shadow: none;\n",
              "  }\n",
              "\n",
              "  .colab-df-spinner {\n",
              "    border: 2px solid var(--fill-color);\n",
              "    border-color: transparent;\n",
              "    border-bottom-color: var(--fill-color);\n",
              "    animation:\n",
              "      spin 1s steps(1) infinite;\n",
              "  }\n",
              "\n",
              "  @keyframes spin {\n",
              "    0% {\n",
              "      border-color: transparent;\n",
              "      border-bottom-color: var(--fill-color);\n",
              "      border-left-color: var(--fill-color);\n",
              "    }\n",
              "    20% {\n",
              "      border-color: transparent;\n",
              "      border-left-color: var(--fill-color);\n",
              "      border-top-color: var(--fill-color);\n",
              "    }\n",
              "    30% {\n",
              "      border-color: transparent;\n",
              "      border-left-color: var(--fill-color);\n",
              "      border-top-color: var(--fill-color);\n",
              "      border-right-color: var(--fill-color);\n",
              "    }\n",
              "    40% {\n",
              "      border-color: transparent;\n",
              "      border-right-color: var(--fill-color);\n",
              "      border-top-color: var(--fill-color);\n",
              "    }\n",
              "    60% {\n",
              "      border-color: transparent;\n",
              "      border-right-color: var(--fill-color);\n",
              "    }\n",
              "    80% {\n",
              "      border-color: transparent;\n",
              "      border-right-color: var(--fill-color);\n",
              "      border-bottom-color: var(--fill-color);\n",
              "    }\n",
              "    90% {\n",
              "      border-color: transparent;\n",
              "      border-bottom-color: var(--fill-color);\n",
              "    }\n",
              "  }\n",
              "</style>\n",
              "\n",
              "  <script>\n",
              "    async function quickchart(key) {\n",
              "      const quickchartButtonEl =\n",
              "        document.querySelector('#' + key + ' button');\n",
              "      quickchartButtonEl.disabled = true;  // To prevent multiple clicks.\n",
              "      quickchartButtonEl.classList.add('colab-df-spinner');\n",
              "      try {\n",
              "        const charts = await google.colab.kernel.invokeFunction(\n",
              "            'suggestCharts', [key], {});\n",
              "      } catch (error) {\n",
              "        console.error('Error during call to suggestCharts:', error);\n",
              "      }\n",
              "      quickchartButtonEl.classList.remove('colab-df-spinner');\n",
              "      quickchartButtonEl.classList.add('colab-df-quickchart-complete');\n",
              "    }\n",
              "    (() => {\n",
              "      let quickchartButtonEl =\n",
              "        document.querySelector('#df-29e722ca-6322-4a18-ba2f-7b6510aae439 button');\n",
              "      quickchartButtonEl.style.display =\n",
              "        google.colab.kernel.accessAllowed ? 'block' : 'none';\n",
              "    })();\n",
              "  </script>\n",
              "</div>\n",
              "\n",
              "    </div>\n",
              "  </div>\n"
            ],
            "application/vnd.google.colaboratory.intrinsic+json": {
              "type": "dataframe",
              "variable_name": "df",
              "summary": "{\n  \"name\": \"df\",\n  \"rows\": 1121,\n  \"fields\": [\n    {\n      \"column\": \"review_id\",\n      \"properties\": {\n        \"dtype\": \"string\",\n        \"num_unique_values\": 1120,\n        \"samples\": [\n          \"R1TIH76K4BX9O3\",\n          \"R3EO2GBST2UICI\",\n          \"R854W7RG0O71V\"\n        ],\n        \"semantic_type\": \"\",\n        \"description\": \"\"\n      }\n    },\n    {\n      \"column\": \"product_id\",\n      \"properties\": {\n        \"dtype\": \"category\",\n        \"num_unique_values\": 15,\n        \"samples\": [\n          \"B08X4YMTPM\",\n          \"B01IOD7KB6\",\n          \"B09FM6PDHP\"\n        ],\n        \"semantic_type\": \"\",\n        \"description\": \"\"\n      }\n    },\n    {\n      \"column\": \"title\",\n      \"properties\": {\n        \"dtype\": \"string\",\n        \"num_unique_values\": 1046,\n        \"samples\": [\n          \"5.0 out of 5 stars Best beats pill ever !\",\n          \"4.0 out of 5 stars Returning Bose. This has the best bass.\",\n          \"1.0 out of 5 stars Se da\\u00f1\\u00f3 en poco tiempo\"\n        ],\n        \"semantic_type\": \"\",\n        \"description\": \"\"\n      }\n    },\n    {\n      \"column\": \"author\",\n      \"properties\": {\n        \"dtype\": \"string\",\n        \"num_unique_values\": 1023,\n        \"samples\": [\n          \"Elke\",\n          \"kristina white\",\n          \"Daniel Graham\"\n        ],\n        \"semantic_type\": \"\",\n        \"description\": \"\"\n      }\n    },\n    {\n      \"column\": \"rating\",\n      \"properties\": {\n        \"dtype\": \"category\",\n        \"num_unique_values\": 8,\n        \"samples\": [\n          \"4\",\n          \"2\",\n          \"5\"\n        ],\n        \"semantic_type\": \"\",\n        \"description\": \"\"\n      }\n    },\n    {\n      \"column\": \"content\",\n      \"properties\": {\n        \"dtype\": \"string\",\n        \"num_unique_values\": 1110,\n        \"samples\": [\n          \"The best speaker for a good price\",\n          \"These are the third version of SkullCandy earbuds I have had. My first were a pair of wired Smokin Buds I found in a parking lot. I was shocked at well they sound, so I ordered a few pair off ebay. I used these mostly cardio on treadmills. Sound quality was excellent with a nice bass. The fit always seemed to need adjusting.A few years ago I tried the sport bluetooth version of Smokin Buds that go around the neck. these had same qualities of the wired version.Now for these wireless Smokin Buds II. I have paired them to 5 different devices: Motorola, Samsung Apple iPhones and an iMac. Sound and fit are excellent. There are 3 built in eq settings: standard, movie and music, that can be changed easily by tapping 4 times on the Skull icon on either earbud. As for the sound the bass seemed deeper on the wired version but not by much.There are small medium and large ear adapters. I believe I am using the smallest ones.There is a charging cradle. You can charge the cradle even when you are wearing the earbuds. When you put the earbuds away the cradle will transfer power to the earbuds without them needing to be plugged in.USB-C charging port with a short USB-A to USB-C cable.Fit: I have shaken my head and the earbuds didn't move. The fit is snug.I have not tried them with exercise yet.Pairing: touch one of the Skull icons for 3 sec. and you will hear \\\"ready for pairing\\\"For $25 dollars these are excellent, Enjoy!\",\n          \"They work very well and stay charged for a long time and noise cancelling is amazing\"\n        ],\n        \"semantic_type\": \"\",\n        \"description\": \"\"\n      }\n    },\n    {\n      \"column\": \"timestamp\",\n      \"properties\": {\n        \"dtype\": \"category\",\n        \"num_unique_values\": 465,\n        \"samples\": [\n          \"Reviewed in the United States March 21, 2024\",\n          \"Reviewed in the United States January 24, 2024\",\n          \"Reviewed in the United States May 24, 2024\"\n        ],\n        \"semantic_type\": \"\",\n        \"description\": \"\"\n      }\n    },\n    {\n      \"column\": \"profile_id\",\n      \"properties\": {\n        \"dtype\": \"string\",\n        \"num_unique_values\": 1115,\n        \"samples\": [\n          \"AFIU64TVVI6SSSSGLPX3JFQT2XBQ\",\n          \"AFMDCDCHBIWSEI6RDYBCY4MXXVZQ\",\n          \"AGIKSFYKPBRAACGDFHLSEA3UH56Q\"\n        ],\n        \"semantic_type\": \"\",\n        \"description\": \"\"\n      }\n    },\n    {\n      \"column\": \"is_verified\",\n      \"properties\": {\n        \"dtype\": \"category\",\n        \"num_unique_values\": 3,\n        \"samples\": [\n          \"1\",\n          \" bass is strong without being overwhelming.\\\" Case \\u0013 form factor is great! Fits in my pocket\",\n          \"0\"\n        ],\n        \"semantic_type\": \"\",\n        \"description\": \"\"\n      }\n    },\n    {\n      \"column\": \"helpful_count\",\n      \"properties\": {\n        \"dtype\": \"category\",\n        \"num_unique_values\": 51,\n        \"samples\": [\n          \"19\",\n          \"12\",\n          \"37\"\n        ],\n        \"semantic_type\": \"\",\n        \"description\": \"\"\n      }\n    },\n    {\n      \"column\": \"product_attributes\",\n      \"properties\": {\n        \"dtype\": \"category\",\n        \"num_unique_values\": 44,\n        \"samples\": [\n          \"Color: Grey MistStyle: Bluetooth speaker\",\n          \"Color: Camouflage\",\n          \"Color: Teal\"\n        ],\n        \"semantic_type\": \"\",\n        \"description\": \"\"\n      }\n    }\n  ]\n}"
            }
          },
          "metadata": {},
          "execution_count": 256
        }
      ]
    },
    {
      "cell_type": "code",
      "source": [
        "df.shape"
      ],
      "metadata": {
        "colab": {
          "base_uri": "https://localhost:8080/"
        },
        "id": "93I3z6xf1KjK",
        "outputId": "487fb5c9-aa2e-4566-d8b9-b4110b2830e9"
      },
      "execution_count": 257,
      "outputs": [
        {
          "output_type": "execute_result",
          "data": {
            "text/plain": [
              "(1121, 11)"
            ]
          },
          "metadata": {},
          "execution_count": 257
        }
      ]
    },
    {
      "cell_type": "markdown",
      "source": [
        "**Check Data Types**\n"
      ],
      "metadata": {
        "id": "hCO9hv8P50-N"
      }
    },
    {
      "cell_type": "code",
      "source": [
        "# Check the data types of each column\n",
        "print(df.dtypes)"
      ],
      "metadata": {
        "colab": {
          "base_uri": "https://localhost:8080/"
        },
        "id": "MI8JlDYI5zeA",
        "outputId": "6e4414f4-75b1-4bb4-ad2a-ad7195f29ce0"
      },
      "execution_count": 258,
      "outputs": [
        {
          "output_type": "stream",
          "name": "stdout",
          "text": [
            "review_id             object\n",
            "product_id            object\n",
            "title                 object\n",
            "author                object\n",
            "rating                object\n",
            "content               object\n",
            "timestamp             object\n",
            "profile_id            object\n",
            "is_verified           object\n",
            "helpful_count         object\n",
            "product_attributes    object\n",
            "dtype: object\n"
          ]
        }
      ]
    },
    {
      "cell_type": "markdown",
      "source": [
        "**Identify Unique Data Types Within Columns**"
      ],
      "metadata": {
        "id": "MzvYVCdK59Jr"
      }
    },
    {
      "cell_type": "code",
      "source": [
        "# Check the unique data types in each column (especially useful for 'rating')\n",
        "for col in df.columns:\n",
        "    print(f\"Unique data types in {col}: {df[col].apply(lambda x: type(x)).unique()}\")"
      ],
      "metadata": {
        "colab": {
          "base_uri": "https://localhost:8080/"
        },
        "id": "Her3qlYI6A6D",
        "outputId": "ebca86d0-cf46-434e-a931-baf4396075a0"
      },
      "execution_count": 259,
      "outputs": [
        {
          "output_type": "stream",
          "name": "stdout",
          "text": [
            "Unique data types in review_id: [<class 'str'> <class 'float'>]\n",
            "Unique data types in product_id: [<class 'str'> <class 'float'>]\n",
            "Unique data types in title: [<class 'str'> <class 'float'>]\n",
            "Unique data types in author: [<class 'str'> <class 'float'>]\n",
            "Unique data types in rating: [<class 'str'> <class 'float'>]\n",
            "Unique data types in content: [<class 'str'> <class 'float'>]\n",
            "Unique data types in timestamp: [<class 'str'> <class 'float'>]\n",
            "Unique data types in profile_id: [<class 'str'> <class 'float'>]\n",
            "Unique data types in is_verified: [<class 'str'> <class 'float'>]\n",
            "Unique data types in helpful_count: [<class 'str'> <class 'float'>]\n",
            "Unique data types in product_attributes: [<class 'str'> <class 'float'>]\n"
          ]
        }
      ]
    },
    {
      "cell_type": "code",
      "source": [
        "# Checking for missing values in the dataset\n",
        "missing_values = df.isnull().sum()\n",
        "print(missing_values)"
      ],
      "metadata": {
        "colab": {
          "base_uri": "https://localhost:8080/"
        },
        "id": "zMLnaEX913CA",
        "outputId": "3480de6c-9513-4ec0-fa1d-3b782bcfa8ee"
      },
      "execution_count": 260,
      "outputs": [
        {
          "output_type": "stream",
          "name": "stdout",
          "text": [
            "review_id             1\n",
            "product_id            1\n",
            "title                 1\n",
            "author                3\n",
            "rating                3\n",
            "content               8\n",
            "timestamp             6\n",
            "profile_id            6\n",
            "is_verified           8\n",
            "helpful_count         8\n",
            "product_attributes    9\n",
            "dtype: int64\n"
          ]
        }
      ]
    },
    {
      "cell_type": "markdown",
      "source": [
        "It looks like the missing values are distributed across various columns, but the number of missing entries is relatively small."
      ],
      "metadata": {
        "id": "Zdab5NFM2ZtG"
      }
    },
    {
      "cell_type": "markdown",
      "source": [
        "**Numerical column can't have a string datatype entry, So lets convert it to numeric**"
      ],
      "metadata": {
        "id": "ZJZaB6yM7n1S"
      }
    },
    {
      "cell_type": "code",
      "source": [
        "# Convert the 'rating' column to numeric, coercing errors to NaN\n",
        "df['rating'] = pd.to_numeric(df['rating'], errors='coerce')\n",
        "df['helpful_count'] = pd.to_numeric(df['helpful_count'], errors='coerce')\n",
        "df['is_verified'] = pd.to_numeric(df['is_verified'], errors='coerce')"
      ],
      "metadata": {
        "id": "WPRDY9G75HAh"
      },
      "execution_count": 261,
      "outputs": []
    },
    {
      "cell_type": "code",
      "source": [
        "# Calculating the median of the 'rating' column after conversion\n",
        "rating_median = df['rating'].median()\n",
        "helpfulcount_median = df['helpful_count'].median()\n",
        "verified_median = df['is_verified'].median()\n",
        "\n",
        "# Fill missing 'rating' values with the median\n",
        "df['rating'].fillna(rating_median, inplace=True)\n",
        "df['helpful_count'].fillna(rating_median, inplace=True)\n",
        "df['is_verified'].fillna(rating_median, inplace=True)"
      ],
      "metadata": {
        "id": "p_ecEp882bbo"
      },
      "execution_count": 262,
      "outputs": []
    },
    {
      "cell_type": "markdown",
      "source": [
        "**Drop Missing Values**\n",
        "\n",
        "As the number of missing values is very small compared to the overall size of our dataset, and those rows aren't critical, we can drop them\n",
        "\n",
        "Drop Rows: As the missing data is less significant (like 1-9 missing values in a dataset with thousands of rows), and those rows don't add much value, dropping them is generally safe."
      ],
      "metadata": {
        "id": "IJD4K-E-2cVA"
      }
    },
    {
      "cell_type": "code",
      "source": [
        "# Drop rows with missing values in any column except 'rating'\n",
        "df = df.dropna(subset=['review_id', 'product_id', 'title', 'author', 'content', 'timestamp', 'profile_id', 'product_attributes'])"
      ],
      "metadata": {
        "id": "heCE4iKo5gVM"
      },
      "execution_count": 263,
      "outputs": []
    },
    {
      "cell_type": "code",
      "source": [
        "# Crosschecking for missing values in the dataset\n",
        "missing_values = df.isnull().sum()\n",
        "print(missing_values)"
      ],
      "metadata": {
        "colab": {
          "base_uri": "https://localhost:8080/"
        },
        "id": "7s1a9jn231Up",
        "outputId": "fb4e85d8-f579-4fd6-e160-44ea126dd47a"
      },
      "execution_count": 264,
      "outputs": [
        {
          "output_type": "stream",
          "name": "stdout",
          "text": [
            "review_id             0\n",
            "product_id            0\n",
            "title                 0\n",
            "author                0\n",
            "rating                0\n",
            "content               0\n",
            "timestamp             0\n",
            "profile_id            0\n",
            "is_verified           0\n",
            "helpful_count         0\n",
            "product_attributes    0\n",
            "dtype: int64\n"
          ]
        }
      ]
    },
    {
      "cell_type": "markdown",
      "source": [
        "**Check for Duplicates**"
      ],
      "metadata": {
        "id": "QmbZBQrG9DEw"
      }
    },
    {
      "cell_type": "code",
      "source": [
        "# Check for duplicate rows\n",
        "duplicates = df[df.duplicated()]\n",
        "print(f\"Number of duplicate rows: {duplicates.shape[0]}\")\n",
        "\n",
        "# Drop duplicates\n",
        "df = df.drop_duplicates()"
      ],
      "metadata": {
        "colab": {
          "base_uri": "https://localhost:8080/"
        },
        "id": "wsv2fpa39D60",
        "outputId": "72bcc79e-f867-4a67-f337-b8fba5fcb574"
      },
      "execution_count": 265,
      "outputs": [
        {
          "output_type": "stream",
          "name": "stdout",
          "text": [
            "Number of duplicate rows: 0\n"
          ]
        }
      ]
    },
    {
      "cell_type": "markdown",
      "source": [
        "**Handle Outliers**\n",
        "\n",
        "Outliers can skew our analysis, so it’s important to identify and decide how to handle them.\n",
        "\n",
        "Using statistical methods like the Interquartile Range (IQR) or Z-scores for finding outliers."
      ],
      "metadata": {
        "id": "EDnG5vYM8eU7"
      }
    },
    {
      "cell_type": "code",
      "source": [
        "numeric_cols = df.select_dtypes(include=['float64', 'int64']).columns\n",
        "print(numeric_cols)"
      ],
      "metadata": {
        "colab": {
          "base_uri": "https://localhost:8080/"
        },
        "id": "2aILjzzZ-9Ol",
        "outputId": "c03285b5-4863-457f-e204-8a6cebe60889"
      },
      "execution_count": 266,
      "outputs": [
        {
          "output_type": "stream",
          "name": "stdout",
          "text": [
            "Index(['rating', 'is_verified', 'helpful_count'], dtype='object')\n"
          ]
        }
      ]
    },
    {
      "cell_type": "code",
      "source": [
        "import matplotlib.pyplot as plt\n",
        "import seaborn as sns\n",
        "\n",
        "for col in numeric_cols:\n",
        "    plt.figure(figsize=(10, 4))\n",
        "    sns.boxplot(x=df[col])\n",
        "    plt.title(f'Boxplot of {col}')\n",
        "    plt.show()"
      ],
      "metadata": {
        "colab": {
          "base_uri": "https://localhost:8080/",
          "height": 1000
        },
        "id": "nATyeVv3-LiV",
        "outputId": "909450c9-0c0f-4abe-d6f8-1a529f3ee3fa"
      },
      "execution_count": 267,
      "outputs": [
        {
          "output_type": "display_data",
          "data": {
            "text/plain": [
              "<Figure size 1000x400 with 1 Axes>"
            ],
            "image/png": "[encoded data removed]"
          },
          "metadata": {}
        },
        {
          "output_type": "display_data",
          "data": {
            "text/plain": [
              "<Figure size 1000x400 with 1 Axes>"
            ],
            "image/png": "[encoded data removed]"
          },
          "metadata": {}
        },
        {
          "output_type": "display_data",
          "data": {
            "text/plain": [
              "<Figure size 1000x400 with 1 Axes>"
            ],
            "image/png": "[encoded data removed]"
          },
          "metadata": {}
        }
      ]
    },
    {
      "cell_type": "markdown",
      "source": [
        "**Remove Outliers**"
      ],
      "metadata": {
        "id": "FIqkF9pZ_L8W"
      }
    },
    {
      "cell_type": "code",
      "source": [
        "Q1 = df['rating'].quantile(0.25)\n",
        "Q3 = df['rating'].quantile(0.75)\n",
        "IQR = Q3 - Q1\n",
        "\n",
        "lower_bound = Q1 - 1.5 * IQR\n",
        "upper_bound = Q3 + 1.5 * IQR\n",
        "\n",
        "# Filter out the outliers\n",
        "df = df[(df['rating'] >= lower_bound) & (df['rating'] <= upper_bound)]\n",
        "\n",
        "df = df[(df['is_verified'] != 0) & (df['is_verified'] != 5) & (df['helpful_count'] < 500)]"
      ],
      "metadata": {
        "id": "QjWC5jWW_Nw0"
      },
      "execution_count": 268,
      "outputs": []
    },
    {
      "cell_type": "markdown",
      "source": [
        "Here's a summary of what I have done:\n",
        "\n",
        "Filter Out Non-Verified Entries (is_verified):\n",
        "\n",
        "We're keeping only rows where is_verified is not 0 or 5, meaning we're focusing on entries that are more likely to be valid or trustworthy.\n",
        "\n",
        "Limit the helpful_count to Less Than 500:\n",
        "\n",
        "we're filtering out rows where helpful_count is 500 or more, keeping only those entries with a helpful_count of less than 500. This ensures we're working with reviews that are considered helpful but not excessively so, which could indicate manipulation or anomalies."
      ],
      "metadata": {
        "id": "vmloLuRSEYUG"
      }
    },
    {
      "cell_type": "markdown",
      "source": [
        "**Checking the Impact of Outlier Handling**"
      ],
      "metadata": {
        "id": "eoH9UxL0_eT4"
      }
    },
    {
      "cell_type": "code",
      "source": [
        "for col in numeric_cols:\n",
        "    plt.figure(figsize=(10, 4))\n",
        "    sns.boxplot(x=df[col])\n",
        "    plt.title(f'Boxplot of {col} After Outlier Handling')\n",
        "    plt.show()"
      ],
      "metadata": {
        "colab": {
          "base_uri": "https://localhost:8080/",
          "height": 1000
        },
        "id": "y4Nj60rk_cNW",
        "outputId": "97ac32cd-72be-49fc-c665-9a06346e9643"
      },
      "execution_count": 269,
      "outputs": [
        {
          "output_type": "display_data",
          "data": {
            "text/plain": [
              "<Figure size 1000x400 with 1 Axes>"
            ],
            "image/png": "[encoded data removed]"
          },
          "metadata": {}
        },
        {
          "output_type": "display_data",
          "data": {
            "text/plain": [
              "<Figure size 1000x400 with 1 Axes>"
            ],
            "image/png": "[encoded data removed]"
          },
          "metadata": {}
        },
        {
          "output_type": "display_data",
          "data": {
            "text/plain": [
              "<Figure size 1000x400 with 1 Axes>"
            ],
            "image/png": "[encoded data removed]"
          },
          "metadata": {}
        }
      ]
    },
    {
      "cell_type": "code",
      "source": [
        "df.shape"
      ],
      "metadata": {
        "colab": {
          "base_uri": "https://localhost:8080/"
        },
        "id": "UJE-0ShFBtsR",
        "outputId": "b4f08e72-66d9-4152-85d5-da5858d5b44f"
      },
      "execution_count": 270,
      "outputs": [
        {
          "output_type": "execute_result",
          "data": {
            "text/plain": [
              "(985, 11)"
            ]
          },
          "metadata": {},
          "execution_count": 270
        }
      ]
    },
    {
      "cell_type": "markdown",
      "source": [
        "**Identify Categorical and Numerical Variables**"
      ],
      "metadata": {
        "id": "jACkdN9mFOMW"
      }
    },
    {
      "cell_type": "code",
      "source": [
        "# List all columns in the dataset\n",
        "print(df.columns)\n",
        "\n",
        "# Identify categorical variables (usually of type 'object' or 'category')\n",
        "categorical_vars = df.select_dtypes(include=['object', 'category']).columns\n",
        "print(\"Categorical Variables:\")\n",
        "print(categorical_vars)\n",
        "\n",
        "# Identify numerical variables (usually of type 'int64' or 'float64')\n",
        "numerical_vars = df.select_dtypes(include=['int64', 'float64']).columns\n",
        "print(\"Numerical Variables:\")\n",
        "print(numerical_vars)"
      ],
      "metadata": {
        "colab": {
          "base_uri": "https://localhost:8080/"
        },
        "id": "ZPPopqP28i6q",
        "outputId": "67dab430-9b00-4a6f-fc3d-90c5beb9c273"
      },
      "execution_count": 271,
      "outputs": [
        {
          "output_type": "stream",
          "name": "stdout",
          "text": [
            "Index(['review_id', 'product_id', 'title', 'author', 'rating', 'content',\n",
            "       'timestamp', 'profile_id', 'is_verified', 'helpful_count',\n",
            "       'product_attributes'],\n",
            "      dtype='object')\n",
            "Categorical Variables:\n",
            "Index(['review_id', 'product_id', 'title', 'author', 'content', 'timestamp',\n",
            "       'profile_id', 'product_attributes'],\n",
            "      dtype='object')\n",
            "Numerical Variables:\n",
            "Index(['rating', 'is_verified', 'helpful_count'], dtype='object')\n"
          ]
        }
      ]
    },
    {
      "cell_type": "markdown",
      "source": [
        "\n",
        "\n",
        "---\n",
        "\n",
        "1. **Nominal Variables**:\n",
        "These variables have categories with no inherent order or ranking:\n",
        "\n",
        "**product_id**: This identifies different products, but there’s\n",
        "no order among them. Each product is simply a category.\n",
        "\n",
        "**author**: The name or identifier of the person who wrote the review. There’s no ranking among authors.\n",
        "\n",
        "**review_id**: Unique identifier for each review. No inherent order or ranking.\n",
        "\n",
        "**profile_id**: Identifier for the reviewer's profile. No ranking, just a category.\n",
        "\n",
        "**product_attributes**: Describes product features like color or style. These are typically nominal because there's no natural order among different colors or styles.\n",
        "\n",
        "**title**: The title of the review. This is text data and treated as nominal if used categorically.\n",
        "\n",
        "**content**: The body of the review. This is also text data and can be treated as nominal if you are categorizing it in some way.\n",
        "\n",
        "\n",
        "---\n",
        "\n",
        "\n",
        "2. Ordinal Variables:\n",
        "These variables have categories with a meaningful order:\n",
        "\n",
        "**rating**: Ratings typically have a natural order (e.g., 1 star < 2 stars < 3 stars, etc.). This makes rating an ordinal variable.\n",
        "\n",
        "\n",
        "---\n",
        "\n"
      ],
      "metadata": {
        "id": "U8ONvB7mILSJ"
      }
    },
    {
      "cell_type": "markdown",
      "source": [
        "\n",
        "\n",
        "\n",
        "**Nominal Variables** (e.g., product_id, author, product_attributes):\n",
        "\n",
        "**Encoding Method**: One-hot encoding is typically used to convert these into a numerical format."
      ],
      "metadata": {
        "id": "FSNFESDTIdmN"
      }
    },
    {
      "cell_type": "code",
      "source": [
        "df = pd.get_dummies(df, columns=['product_id', 'product_attributes'], drop_first=True)"
      ],
      "metadata": {
        "id": "tO5kjCCyIpUG"
      },
      "execution_count": 272,
      "outputs": []
    }
  ]
}